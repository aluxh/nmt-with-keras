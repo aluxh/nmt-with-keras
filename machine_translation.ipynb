{
 "cells": [
  {
   "cell_type": "markdown",
   "metadata": {},
   "source": [
    "# Artificial Intelligence Nanodegree\n",
    "## Machine Translation Project\n",
    "In this notebook, sections that end with **'(IMPLEMENTATION)'** in the header indicate that the following blocks of code will require additional functionality which you must provide. Please be sure to read the instructions carefully!\n",
    "\n",
    "## Introduction\n",
    "In this notebook, you will build a deep neural network that functions as part of an end-to-end machine translation pipeline. Your completed pipeline will accept English text as input and return the French translation.\n",
    "\n",
    "- **Preprocess** - You'll convert text to sequence of integers.\n",
    "- **Models** Create models which accepts a sequence of integers as input and returns a probability distribution over possible translations. After learning about the basic types of neural networks that are often used for machine translation, you will engage in your own investigations, to design your own model!\n",
    "- **Prediction** Run the model on English text."
   ]
  },
  {
   "cell_type": "code",
   "execution_count": 1,
   "metadata": {},
   "outputs": [],
   "source": [
    "%load_ext autoreload\n",
    "%aimport helper, tests\n",
    "%autoreload 1"
   ]
  },
  {
   "cell_type": "code",
   "execution_count": 2,
   "metadata": {},
   "outputs": [
    {
     "name": "stderr",
     "output_type": "stream",
     "text": [
      "Using TensorFlow backend.\n"
     ]
    }
   ],
   "source": [
    "import collections\n",
    "\n",
    "import helper\n",
    "import numpy as np\n",
    "from matplotlib import pyplot\n",
    "from pandas import DataFrame\n",
    "import project_tests as tests\n",
    "\n",
    "from keras.preprocessing.text import Tokenizer\n",
    "from keras.preprocessing.sequence import pad_sequences\n",
    "from keras.models import Model, Sequential\n",
    "from keras.layers import GRU, Input, Dense, TimeDistributed, Activation, RepeatVector, Bidirectional, LSTM, Dropout\n",
    "from keras.layers.embeddings import Embedding\n",
    "from keras.optimizers import Adam, rmsprop\n",
    "from keras.losses import sparse_categorical_crossentropy, categorical_crossentropy"
   ]
  },
  {
   "cell_type": "markdown",
   "metadata": {},
   "source": [
    "### Verify access to the GPU\n",
    "The following test applies only if you expect to be using a GPU, e.g., while running in a Udacity Workspace or using an AWS instance with GPU support. Run the next cell, and verify that the device_type is \"GPU\".\n",
    "- If the device is not GPU & you are running from a Udacity Workspace, then save your workspace with the icon at the top, then click \"enable\" at the bottom of the workspace.\n",
    "- If the device is not GPU & you are running from an AWS instance, then refer to the cloud computing instructions in the classroom to verify your setup steps."
   ]
  },
  {
   "cell_type": "code",
   "execution_count": 3,
   "metadata": {
    "scrolled": true
   },
   "outputs": [
    {
     "name": "stdout",
     "output_type": "stream",
     "text": [
      "[name: \"/cpu:0\"\n",
      "device_type: \"CPU\"\n",
      "memory_limit: 268435456\n",
      "locality {\n",
      "}\n",
      "incarnation: 15495246828385944096\n",
      ", name: \"/gpu:0\"\n",
      "device_type: \"GPU\"\n",
      "memory_limit: 357433344\n",
      "locality {\n",
      "  bus_id: 1\n",
      "}\n",
      "incarnation: 11437601037674840354\n",
      "physical_device_desc: \"device: 0, name: Tesla K80, pci bus id: 0000:00:04.0\"\n",
      "]\n"
     ]
    }
   ],
   "source": [
    "from tensorflow.python.client import device_lib\n",
    "print(device_lib.list_local_devices())"
   ]
  },
  {
   "cell_type": "markdown",
   "metadata": {},
   "source": [
    "## Dataset\n",
    "We begin by investigating the dataset that will be used to train and evaluate your pipeline.  The most common datasets used for machine translation are from [WMT](http://www.statmt.org/).  However, that will take a long time to train a neural network on.  We'll be using a dataset we created for this project that contains a small vocabulary.  You'll be able to train your model in a reasonable time with this dataset.\n",
    "### Load Data\n",
    "The data is located in `data/small_vocab_en` and `data/small_vocab_fr`. The `small_vocab_en` file contains English sentences with their French translations in the `small_vocab_fr` file. Load the English and French data from these files from running the cell below."
   ]
  },
  {
   "cell_type": "code",
   "execution_count": 4,
   "metadata": {},
   "outputs": [
    {
     "name": "stdout",
     "output_type": "stream",
     "text": [
      "Dataset Loaded\n"
     ]
    }
   ],
   "source": [
    "# Load English data\n",
    "english_sentences = helper.load_data('data/small_vocab_en')\n",
    "# Load French data\n",
    "french_sentences = helper.load_data('data/small_vocab_fr')\n",
    "\n",
    "print('Dataset Loaded')"
   ]
  },
  {
   "cell_type": "markdown",
   "metadata": {},
   "source": [
    "### Files\n",
    "Each line in `small_vocab_en` contains an English sentence with the respective translation in each line of `small_vocab_fr`.  View the first two lines from each file."
   ]
  },
  {
   "cell_type": "code",
   "execution_count": 5,
   "metadata": {},
   "outputs": [
    {
     "name": "stdout",
     "output_type": "stream",
     "text": [
      "small_vocab_en Line 1:  new jersey is sometimes quiet during autumn , and it is snowy in april .\n",
      "small_vocab_fr Line 1:  new jersey est parfois calme pendant l' automne , et il est neigeux en avril .\n",
      "small_vocab_en Line 2:  the united states is usually chilly during july , and it is usually freezing in november .\n",
      "small_vocab_fr Line 2:  les états-unis est généralement froid en juillet , et il gèle habituellement en novembre .\n"
     ]
    }
   ],
   "source": [
    "for sample_i in range(2):\n",
    "    print('small_vocab_en Line {}:  {}'.format(sample_i + 1, english_sentences[sample_i]))\n",
    "    print('small_vocab_fr Line {}:  {}'.format(sample_i + 1, french_sentences[sample_i]))"
   ]
  },
  {
   "cell_type": "code",
   "execution_count": 6,
   "metadata": {},
   "outputs": [
    {
     "name": "stdout",
     "output_type": "stream",
     "text": [
      "there are 137861 of sentences in English\n",
      "there are 137861 of sentences in French\n"
     ]
    }
   ],
   "source": [
    "print('there are {} of sentences in English'.format(len(english_sentences)))\n",
    "print('there are {} of sentences in French'.format(len(french_sentences)))"
   ]
  },
  {
   "cell_type": "markdown",
   "metadata": {},
   "source": [
    "From looking at the sentences, you can see they have been preprocessed already.  The puncuations have been delimited using spaces. All the text have been converted to lowercase.  This should save you some time, but the text requires more preprocessing.\n",
    "### Vocabulary\n",
    "The complexity of the problem is determined by the complexity of the vocabulary.  A more complex vocabulary is a more complex problem.  Let's look at the complexity of the dataset we'll be working with."
   ]
  },
  {
   "cell_type": "code",
   "execution_count": 7,
   "metadata": {},
   "outputs": [
    {
     "name": "stdout",
     "output_type": "stream",
     "text": [
      "1823250 English words.\n",
      "227 unique English words.\n",
      "10 Most common words in the English dataset:\n",
      "\"is\" \",\" \".\" \"in\" \"it\" \"during\" \"the\" \"but\" \"and\" \"sometimes\"\n",
      "\n",
      "1961295 French words.\n",
      "355 unique French words.\n",
      "10 Most common words in the French dataset:\n",
      "\"est\" \".\" \",\" \"en\" \"il\" \"les\" \"mais\" \"et\" \"la\" \"parfois\"\n"
     ]
    }
   ],
   "source": [
    "english_words_counter = collections.Counter([word for sentence in english_sentences for word in sentence.split()])\n",
    "french_words_counter = collections.Counter([word for sentence in french_sentences for word in sentence.split()])\n",
    "\n",
    "print('{} English words.'.format(len([word for sentence in english_sentences for word in sentence.split()])))\n",
    "print('{} unique English words.'.format(len(english_words_counter)))\n",
    "print('10 Most common words in the English dataset:')\n",
    "print('\"' + '\" \"'.join(list(zip(*english_words_counter.most_common(10)))[0]) + '\"')\n",
    "print()\n",
    "print('{} French words.'.format(len([word for sentence in french_sentences for word in sentence.split()])))\n",
    "print('{} unique French words.'.format(len(french_words_counter)))\n",
    "print('10 Most common words in the French dataset:')\n",
    "print('\"' + '\" \"'.join(list(zip(*french_words_counter.most_common(10)))[0]) + '\"')"
   ]
  },
  {
   "cell_type": "markdown",
   "metadata": {},
   "source": [
    "For comparison, _Alice's Adventures in Wonderland_ contains 2,766 unique words of a total of 15,500 words.\n",
    "## Preprocess\n",
    "For this project, you won't use text data as input to your model. Instead, you'll convert the text into sequences of integers using the following preprocess methods:\n",
    "1. Tokenize the words into ids\n",
    "2. Add padding to make all the sequences the same length.\n",
    "\n",
    "Time to start preprocessing the data...\n",
    "### Tokenize (IMPLEMENTATION)\n",
    "For a neural network to predict on text data, it first has to be turned into data it can understand. Text data like \"dog\" is a sequence of ASCII character encodings.  Since a neural network is a series of multiplication and addition operations, the input data needs to be number(s).\n",
    "\n",
    "We can turn each character into a number or each word into a number.  These are called character and word ids, respectively.  Character ids are used for character level models that generate text predictions for each character.  A word level model uses word ids that generate text predictions for each word.  Word level models tend to learn better, since they are lower in complexity, so we'll use those.\n",
    "\n",
    "Turn each sentence into a sequence of words ids using Keras's [`Tokenizer`](https://keras.io/preprocessing/text/#tokenizer) function. Use this function to tokenize `english_sentences` and `french_sentences` in the cell below.\n",
    "\n",
    "Running the cell will run `tokenize` on sample data and show output for debugging."
   ]
  },
  {
   "cell_type": "code",
   "execution_count": 5,
   "metadata": {},
   "outputs": [
    {
     "name": "stdout",
     "output_type": "stream",
     "text": [
      "{'the': 1, 'quick': 2, 'a': 3, 'brown': 4, 'fox': 5, 'jumps': 6, 'over': 7, 'lazy': 8, 'dog': 9, 'by': 10, 'jove': 11, 'my': 12, 'study': 13, 'of': 14, 'lexicography': 15, 'won': 16, 'prize': 17, 'this': 18, 'is': 19, 'short': 20, 'sentence': 21}\n",
      "\n",
      "Sequence 1 in x\n",
      "  Input:  The quick brown fox jumps over the lazy dog .\n",
      "  Output: [1, 2, 4, 5, 6, 7, 1, 8, 9]\n",
      "Sequence 2 in x\n",
      "  Input:  By Jove , my quick study of lexicography won a prize .\n",
      "  Output: [10, 11, 12, 2, 13, 14, 15, 16, 3, 17]\n",
      "Sequence 3 in x\n",
      "  Input:  This is a short sentence .\n",
      "  Output: [18, 19, 3, 20, 21]\n"
     ]
    }
   ],
   "source": [
    "def tokenize(x):\n",
    "    \"\"\"\n",
    "    Tokenize x\n",
    "    :param x: List of sentences/strings to be tokenized\n",
    "    :return: Tuple of (tokenized x data, tokenizer used to tokenize x)\n",
    "    \"\"\"\n",
    "    x_tk = Tokenizer()\n",
    "    x_tk.fit_on_texts(x)\n",
    "    \n",
    "    return x_tk.texts_to_sequences(x), x_tk\n",
    "\n",
    "tests.test_tokenize(tokenize)\n",
    "\n",
    "# Tokenize Example output\n",
    "text_sentences = [\n",
    "    'The quick brown fox jumps over the lazy dog .',\n",
    "    'By Jove , my quick study of lexicography won a prize .',\n",
    "    'This is a short sentence .']\n",
    "text_tokenized, text_tokenizer = tokenize(text_sentences)\n",
    "print(text_tokenizer.word_index)\n",
    "print()\n",
    "for sample_i, (sent, token_sent) in enumerate(zip(text_sentences, text_tokenized)):\n",
    "    print('Sequence {} in x'.format(sample_i + 1))\n",
    "    print('  Input:  {}'.format(sent))\n",
    "    print('  Output: {}'.format(token_sent))"
   ]
  },
  {
   "cell_type": "markdown",
   "metadata": {},
   "source": [
    "### Padding (IMPLEMENTATION)\n",
    "When batching the sequence of word ids together, each sequence needs to be the same length.  Since sentences are dynamic in length, we can add padding to the end of the sequences to make them the same length.\n",
    "\n",
    "Make sure all the English sequences have the same length and all the French sequences have the same length by adding padding to the **end** of each sequence using Keras's [`pad_sequences`](https://keras.io/preprocessing/sequence/#pad_sequences) function."
   ]
  },
  {
   "cell_type": "code",
   "execution_count": 6,
   "metadata": {},
   "outputs": [
    {
     "name": "stdout",
     "output_type": "stream",
     "text": [
      "Sequence 1 in x\n",
      "  Input:  [1 2 4 5 6 7 1 8 9]\n",
      "  Output: [1 2 4 5 6 7 1 8 9 0]\n",
      "Sequence 2 in x\n",
      "  Input:  [10 11 12  2 13 14 15 16  3 17]\n",
      "  Output: [10 11 12  2 13 14 15 16  3 17]\n",
      "Sequence 3 in x\n",
      "  Input:  [18 19  3 20 21]\n",
      "  Output: [18 19  3 20 21  0  0  0  0  0]\n"
     ]
    }
   ],
   "source": [
    "def pad(x, length=None):\n",
    "    \"\"\"\n",
    "    Pad x\n",
    "    :param x: List of sequences.\n",
    "    :param length: Length to pad the sequence to.  If None, use length of longest sequence in x.\n",
    "    :return: Padded numpy array of sequences\n",
    "    \"\"\"\n",
    "    if length == None:\n",
    "        length = max([len(text) for text in x])\n",
    "        \n",
    "    return pad_sequences(x, maxlen=length, padding=\"post\")\n",
    "\n",
    "tests.test_pad(pad)\n",
    "\n",
    "# Pad Tokenized output\n",
    "test_pad = pad(text_tokenized)\n",
    "for sample_i, (token_sent, pad_sent) in enumerate(zip(text_tokenized, test_pad)):\n",
    "    print('Sequence {} in x'.format(sample_i + 1))\n",
    "    print('  Input:  {}'.format(np.array(token_sent)))\n",
    "    print('  Output: {}'.format(pad_sent))"
   ]
  },
  {
   "cell_type": "markdown",
   "metadata": {},
   "source": [
    "### Preprocess Pipeline\n",
    "Your focus for this project is to build neural network architecture, so we won't ask you to create a preprocess pipeline.  Instead, we've provided you with the implementation of the `preprocess` function."
   ]
  },
  {
   "cell_type": "code",
   "execution_count": 7,
   "metadata": {},
   "outputs": [
    {
     "name": "stdout",
     "output_type": "stream",
     "text": [
      "Data Preprocessed\n",
      "Max English sentence length: 15\n",
      "Max French sentence length: 21\n",
      "English vocabulary size: 199\n",
      "French vocabulary size: 344\n"
     ]
    }
   ],
   "source": [
    "def preprocess(x, y):\n",
    "    \"\"\"\n",
    "    Preprocess x and y\n",
    "    :param x: Feature List of sentences\n",
    "    :param y: Label List of sentences\n",
    "    :return: Tuple of (Preprocessed x, Preprocessed y, x tokenizer, y tokenizer)\n",
    "    \"\"\"\n",
    "    preprocess_x, x_tk = tokenize(x)\n",
    "    preprocess_y, y_tk = tokenize(y)\n",
    "\n",
    "    preprocess_x = pad(preprocess_x)\n",
    "    preprocess_y = pad(preprocess_y)\n",
    "\n",
    "    # Keras's sparse_categorical_crossentropy function requires the labels to be in 3 dimensions\n",
    "    preprocess_y = preprocess_y.reshape(*preprocess_y.shape, 1)\n",
    "\n",
    "    return preprocess_x, preprocess_y, x_tk, y_tk\n",
    "\n",
    "preproc_english_sentences, preproc_french_sentences, english_tokenizer, french_tokenizer =\\\n",
    "    preprocess(english_sentences, french_sentences)\n",
    "    \n",
    "max_english_sequence_length = preproc_english_sentences.shape[1]\n",
    "max_french_sequence_length = preproc_french_sentences.shape[1]\n",
    "english_vocab_size = len(english_tokenizer.word_index)\n",
    "french_vocab_size = len(french_tokenizer.word_index)\n",
    "\n",
    "print('Data Preprocessed')\n",
    "print(\"Max English sentence length:\", max_english_sequence_length)\n",
    "print(\"Max French sentence length:\", max_french_sequence_length)\n",
    "print(\"English vocabulary size:\", english_vocab_size)\n",
    "print(\"French vocabulary size:\", french_vocab_size)"
   ]
  },
  {
   "cell_type": "markdown",
   "metadata": {},
   "source": [
    "#### Example of output and input format"
   ]
  },
  {
   "cell_type": "code",
   "execution_count": 11,
   "metadata": {},
   "outputs": [
    {
     "data": {
      "text/plain": [
       "array([[ 4],\n",
       "       [32],\n",
       "       [31],\n",
       "       [ 1],\n",
       "       [12],\n",
       "       [19],\n",
       "       [ 2],\n",
       "       [49],\n",
       "       [ 6],\n",
       "       [ 3],\n",
       "       [95],\n",
       "       [69],\n",
       "       [ 2],\n",
       "       [51],\n",
       "       [ 0],\n",
       "       [ 0],\n",
       "       [ 0],\n",
       "       [ 0],\n",
       "       [ 0],\n",
       "       [ 0],\n",
       "       [ 0]], dtype=int32)"
      ]
     },
     "execution_count": 11,
     "metadata": {},
     "output_type": "execute_result"
    }
   ],
   "source": [
    "preproc_french_sentences[1]"
   ]
  },
  {
   "cell_type": "code",
   "execution_count": 12,
   "metadata": {},
   "outputs": [
    {
     "data": {
      "text/plain": [
       "array([ 5, 20, 21,  1,  9, 62,  4, 43,  7,  3,  1,  9, 51,  2, 45], dtype=int32)"
      ]
     },
     "execution_count": 12,
     "metadata": {},
     "output_type": "execute_result"
    }
   ],
   "source": [
    "preproc_english_sentences[1]"
   ]
  },
  {
   "cell_type": "markdown",
   "metadata": {},
   "source": [
    "## Models\n",
    "In this section, you will experiment with various neural network architectures.\n",
    "You will begin by training four relatively simple architectures.\n",
    "- Model 1 is a simple RNN\n",
    "- Model 2 is a RNN with Embedding\n",
    "- Model 3 is a Bidirectional RNN\n",
    "- Model 4 is an optional Encoder-Decoder RNN\n",
    "\n",
    "After experimenting with the four simple architectures, you will construct a deeper architecture that is designed to outperform all four models.\n",
    "### Ids Back to Text\n",
    "The neural network will be translating the input to words ids, which isn't the final form we want.  We want the French translation.  The function `logits_to_text` will bridge the gab between the logits from the neural network to the French translation.  You'll be using this function to better understand the output of the neural network."
   ]
  },
  {
   "cell_type": "code",
   "execution_count": 8,
   "metadata": {},
   "outputs": [
    {
     "name": "stdout",
     "output_type": "stream",
     "text": [
      "`logits_to_text` function loaded.\n"
     ]
    }
   ],
   "source": [
    "def logits_to_text(logits, tokenizer):\n",
    "    \"\"\"\n",
    "    Turn logits from a neural network into text using the tokenizer\n",
    "    :param logits: Logits from a neural network\n",
    "    :param tokenizer: Keras Tokenizer fit on the labels\n",
    "    :return: String that represents the text of the logits\n",
    "    \"\"\"\n",
    "    index_to_words = {id: word for word, id in tokenizer.word_index.items()}\n",
    "    index_to_words[0] = '<PAD>'\n",
    "\n",
    "    return ' '.join([index_to_words[prediction] for prediction in np.argmax(logits, 1)])\n",
    "\n",
    "print('`logits_to_text` function loaded.')"
   ]
  },
  {
   "cell_type": "code",
   "execution_count": 9,
   "metadata": {},
   "outputs": [
    {
     "name": "stdout",
     "output_type": "stream",
     "text": [
      "`source_to_text` function loaded.\n"
     ]
    }
   ],
   "source": [
    "def source_to_text(text, tokenizer):\n",
    "    \"\"\"\n",
    "    Reverse translate the source text from integer back into English using the tokenizer.\n",
    "    :param sentences: Text from the source\n",
    "    :param tokenizer: Keras Tokenizer fit on the labels\n",
    "    :return: String that represents the text of the preprocess text\n",
    "    \"\"\"\n",
    "    index_to_words = {id: word for word, id in tokenizer.word_index.items()}\n",
    "    index_to_words[0] = '<PAD>'\n",
    "    \n",
    "    return ' '.join([index_to_words[reverse_translate] for reverse_translate in text])\n",
    "\n",
    "print('`source_to_text` function loaded.')"
   ]
  },
  {
   "cell_type": "markdown",
   "metadata": {},
   "source": [
    "#### Create a DataFrame for storing models' loss information"
   ]
  },
  {
   "cell_type": "code",
   "execution_count": 15,
   "metadata": {},
   "outputs": [],
   "source": [
    "results = DataFrame()"
   ]
  },
  {
   "cell_type": "markdown",
   "metadata": {},
   "source": [
    "### Model 1: RNN (IMPLEMENTATION)\n",
    "![RNN](images/rnn.png)\n",
    "A basic RNN model is a good baseline for sequence data.  In this model, you'll build a RNN that translates English to French."
   ]
  },
  {
   "cell_type": "code",
   "execution_count": 16,
   "metadata": {},
   "outputs": [
    {
     "name": "stdout",
     "output_type": "stream",
     "text": [
      "_________________________________________________________________\n",
      "Layer (type)                 Output Shape              Param #   \n",
      "=================================================================\n",
      "Inputs (InputLayer)          (None, 21, 1)             0         \n",
      "_________________________________________________________________\n",
      "RNN (GRU)                    (None, 21, 512)           789504    \n",
      "_________________________________________________________________\n",
      "Outputs (TimeDistributed)    (None, 21, 344)           176472    \n",
      "_________________________________________________________________\n",
      "softmax_activation (Activati (None, 21, 344)           0         \n",
      "=================================================================\n",
      "Total params: 965,976\n",
      "Trainable params: 965,976\n",
      "Non-trainable params: 0\n",
      "_________________________________________________________________\n",
      "None\n",
      "\n",
      "Train on 110288 samples, validate on 27573 samples\n",
      "Epoch 1/10\n",
      "110288/110288 [==============================] - 19s 176us/step - loss: 2.2333 - acc: 0.5160 - val_loss: nan - val_acc: 0.5914\n",
      "Epoch 2/10\n",
      "110288/110288 [==============================] - 19s 169us/step - loss: 1.4322 - acc: 0.6112 - val_loss: nan - val_acc: 0.6269\n",
      "Epoch 3/10\n",
      "110288/110288 [==============================] - 19s 169us/step - loss: 1.2587 - acc: 0.6366 - val_loss: nan - val_acc: 0.6332\n",
      "Epoch 4/10\n",
      "110288/110288 [==============================] - 19s 169us/step - loss: 1.1518 - acc: 0.6559 - val_loss: nan - val_acc: 0.6637\n",
      "Epoch 5/10\n",
      "110288/110288 [==============================] - 19s 169us/step - loss: 1.0758 - acc: 0.6699 - val_loss: nan - val_acc: 0.6754\n",
      "Epoch 6/10\n",
      "110288/110288 [==============================] - 19s 169us/step - loss: 1.0181 - acc: 0.6774 - val_loss: nan - val_acc: 0.6791\n",
      "Epoch 7/10\n",
      "110288/110288 [==============================] - 19s 169us/step - loss: 0.9721 - acc: 0.6848 - val_loss: nan - val_acc: 0.6847\n",
      "Epoch 8/10\n",
      "110288/110288 [==============================] - 19s 169us/step - loss: 0.9316 - acc: 0.6928 - val_loss: nan - val_acc: 0.6996\n",
      "Epoch 9/10\n",
      "110288/110288 [==============================] - 19s 169us/step - loss: 0.8941 - acc: 0.7024 - val_loss: nan - val_acc: 0.7107\n",
      "Epoch 10/10\n",
      "110288/110288 [==============================] - 19s 169us/step - loss: 0.8585 - acc: 0.7140 - val_loss: nan - val_acc: 0.7261\n",
      "new jersey est parfois chaud en l' et il et il est en en <PAD> <PAD> <PAD> <PAD> <PAD> <PAD> <PAD>\n"
     ]
    }
   ],
   "source": [
    "def simple_model(input_shape, output_sequence_length, english_vocab_size, french_vocab_size):\n",
    "    \"\"\"\n",
    "    Build and train a basic RNN on x and y\n",
    "    :param input_shape: Tuple of input shape\n",
    "    :param output_sequence_length: Length of output sequence\n",
    "    :param english_vocab_size: Number of unique English words in the dataset\n",
    "    :param french_vocab_size: Number of unique French words in the dataset\n",
    "    :return: Keras model built, but not trained\n",
    "    \"\"\"\n",
    "    # simple params\n",
    "    learning_rate = 1e-3\n",
    "    \n",
    "    # loss: 1.0069 - acc: 0.6808 - val_loss: nan - val_acc: 0.6841\n",
    "    X = Input(shape=input_shape[1:], name=\"Inputs\")  \n",
    "    RNN = GRU(512, return_sequences=True, name=\"RNN\")(X)\n",
    "    y = TimeDistributed(Dense(french_vocab_size), name=\"Outputs\")(RNN)\n",
    "    \n",
    "    model = Model(X, Activation(\"softmax\", name=\"softmax_activation\")(y))\n",
    "    model.compile(loss=sparse_categorical_crossentropy,\n",
    "                  optimizer=Adam(learning_rate),\n",
    "                  metrics=['accuracy'])\n",
    "    return model\n",
    "\n",
    "tests.test_simple_model(simple_model)\n",
    "\n",
    "# Reshaping the input to work with a basic RNN\n",
    "tmp_x = pad(preproc_english_sentences, max_french_sequence_length)\n",
    "tmp_x = tmp_x.reshape((-1, preproc_french_sentences.shape[-2], 1))\n",
    "\n",
    "# # Train the neural network\n",
    "simple_rnn_model = simple_model(\n",
    "    tmp_x.shape,\n",
    "    max_french_sequence_length,\n",
    "    english_vocab_size,\n",
    "    french_vocab_size)\n",
    "\n",
    "print(simple_rnn_model.summary())\n",
    "print()\n",
    "hist1 = simple_rnn_model.fit(tmp_x, preproc_french_sentences, batch_size=1024, epochs=10, validation_split=0.2)\n",
    "\n",
    "# # Print prediction(s)\n",
    "print(logits_to_text(simple_rnn_model.predict(tmp_x[:1])[0], french_tokenizer))"
   ]
  },
  {
   "cell_type": "code",
   "execution_count": 17,
   "metadata": {},
   "outputs": [],
   "source": [
    "results[\"simpleRNN\"] = hist1.history['loss']"
   ]
  },
  {
   "cell_type": "markdown",
   "metadata": {},
   "source": [
    "### Model 2: Embedding (IMPLEMENTATION)\n",
    "![RNN](images/embedding.png)\n",
    "You've turned the words into ids, but there's a better representation of a word.  This is called word embeddings.  An embedding is a vector representation of the word that is close to similar words in n-dimensional space, where the n represents the size of the embedding vectors.\n",
    "\n",
    "In this model, you'll create a RNN model using embedding."
   ]
  },
  {
   "cell_type": "code",
   "execution_count": 18,
   "metadata": {},
   "outputs": [
    {
     "name": "stdout",
     "output_type": "stream",
     "text": [
      "_________________________________________________________________\n",
      "Layer (type)                 Output Shape              Param #   \n",
      "=================================================================\n",
      "Inputs (InputLayer)          (None, 21)                0         \n",
      "_________________________________________________________________\n",
      "Embeddings (Embedding)       (None, 21, 256)           50944     \n",
      "_________________________________________________________________\n",
      "RNN (GRU)                    (None, 21, 512)           1181184   \n",
      "_________________________________________________________________\n",
      "Outputs (TimeDistributed)    (None, 21, 344)           176472    \n",
      "_________________________________________________________________\n",
      "Activation (Activation)      (None, 21, 344)           0         \n",
      "=================================================================\n",
      "Total params: 1,408,600\n",
      "Trainable params: 1,408,600\n",
      "Non-trainable params: 0\n",
      "_________________________________________________________________\n",
      "None\n",
      "Train on 110288 samples, validate on 27573 samples\n",
      "Epoch 1/10\n",
      "110288/110288 [==============================] - 24s 214us/step - loss: 2.8042 - acc: 0.4815 - val_loss: nan - val_acc: 0.5898\n",
      "Epoch 2/10\n",
      "110288/110288 [==============================] - 23s 210us/step - loss: 1.2854 - acc: 0.6941 - val_loss: nan - val_acc: 0.7723\n",
      "Epoch 3/10\n",
      "110288/110288 [==============================] - 23s 210us/step - loss: 0.7110 - acc: 0.8092 - val_loss: nan - val_acc: 0.8378\n",
      "Epoch 4/10\n",
      "110288/110288 [==============================] - 23s 210us/step - loss: 0.4758 - acc: 0.8580 - val_loss: nan - val_acc: 0.8753\n",
      "Epoch 5/10\n",
      "110288/110288 [==============================] - 23s 210us/step - loss: 0.3659 - acc: 0.8858 - val_loss: nan - val_acc: 0.8939\n",
      "Epoch 6/10\n",
      "110288/110288 [==============================] - 23s 210us/step - loss: 0.3091 - acc: 0.9010 - val_loss: nan - val_acc: 0.9049\n",
      "Epoch 7/10\n",
      "110288/110288 [==============================] - 23s 210us/step - loss: 0.2729 - acc: 0.9110 - val_loss: nan - val_acc: 0.9132\n",
      "Epoch 8/10\n",
      "110288/110288 [==============================] - 23s 210us/step - loss: 0.2485 - acc: 0.9178 - val_loss: nan - val_acc: 0.9195\n",
      "Epoch 9/10\n",
      "110288/110288 [==============================] - 23s 210us/step - loss: 0.2299 - acc: 0.9231 - val_loss: nan - val_acc: 0.9225\n",
      "Epoch 10/10\n",
      "110288/110288 [==============================] - 23s 210us/step - loss: 0.2163 - acc: 0.9270 - val_loss: nan - val_acc: 0.9260\n",
      "new jersey est parfois calme au l' automne et il est neigeux en avril <PAD> <PAD> <PAD> <PAD> <PAD> <PAD> <PAD>\n"
     ]
    }
   ],
   "source": [
    "from keras.utils import plot_model\n",
    "\n",
    "def embed_model(input_shape, output_sequence_length, english_vocab_size, french_vocab_size):\n",
    "    \"\"\"\n",
    "    Build and train a RNN model using word embedding on x and y\n",
    "    :param input_shape: Tuple of input shape\n",
    "    :param output_sequence_length: Length of output sequence\n",
    "    :param english_vocab_size: Number of unique English words in the dataset\n",
    "    :param french_vocab_size: Number of unique French words in the dataset\n",
    "    :return: Keras model built, but not trained\n",
    "    \"\"\"\n",
    "    learning_rate = 1e-3\n",
    "        \n",
    "    X = Input(shape=input_shape[1:], name=\"Inputs\")\n",
    "    embedding = Embedding(english_vocab_size, 256, input_length=input_shape[1], name=\"Embeddings\")(X)\n",
    "    RNN = GRU(512, return_sequences=True, name=\"RNN\")(embedding)\n",
    "    y = TimeDistributed(Dense(french_vocab_size), name=\"Outputs\")(RNN)\n",
    "    \n",
    "    model = Model(X, Activation(\"softmax\", name=\"Activation\")(y))\n",
    "    \n",
    "    model.compile(loss=sparse_categorical_crossentropy,\n",
    "                  optimizer=Adam(learning_rate),\n",
    "                  metrics=['accuracy'])\n",
    "    \n",
    "    return model\n",
    "\n",
    "tests.test_embed_model(embed_model)\n",
    "\n",
    "# Inputs preparation using max french length\n",
    "tmp_x = pad(preproc_english_sentences, max_french_sequence_length)\n",
    "\n",
    "# Train the neural network\n",
    "embed_rnn_model = embed_model(\n",
    "    tmp_x.shape,\n",
    "    max_french_sequence_length,\n",
    "    english_vocab_size,\n",
    "    french_vocab_size)\n",
    "\n",
    "print(embed_rnn_model.summary())\n",
    "\n",
    "hist2 = embed_rnn_model.fit(tmp_x, preproc_french_sentences, batch_size=1024, epochs=10, validation_split=0.2)\n",
    "\n",
    "# Print prediction(s)\n",
    "print(logits_to_text(embed_rnn_model.predict(tmp_x[:1])[0], french_tokenizer))\n"
   ]
  },
  {
   "cell_type": "code",
   "execution_count": 19,
   "metadata": {},
   "outputs": [],
   "source": [
    "results[\"embedRNN\"] = hist2.history['loss']"
   ]
  },
  {
   "cell_type": "markdown",
   "metadata": {},
   "source": [
    "### Model 3: Bidirectional RNNs (IMPLEMENTATION)\n",
    "![RNN](images/bidirectional.png)\n",
    "One restriction of a RNN is that it can't see the future input, only the past.  This is where bidirectional recurrent neural networks come in.  They are able to see the future data."
   ]
  },
  {
   "cell_type": "markdown",
   "metadata": {},
   "source": [
    "#### Bidirectional RNN using \"Sum\" Merge mode"
   ]
  },
  {
   "cell_type": "code",
   "execution_count": 20,
   "metadata": {},
   "outputs": [
    {
     "name": "stdout",
     "output_type": "stream",
     "text": [
      "_________________________________________________________________\n",
      "Layer (type)                 Output Shape              Param #   \n",
      "=================================================================\n",
      "Inputs (InputLayer)          (None, 21, 1)             0         \n",
      "_________________________________________________________________\n",
      "Bi-Dir_Sum (Bidirectional)   (None, 21, 512)           1579008   \n",
      "_________________________________________________________________\n",
      "TimeDistributed_Outputs (Tim (None, 21, 344)           176472    \n",
      "_________________________________________________________________\n",
      "Activation (Activation)      (None, 21, 344)           0         \n",
      "=================================================================\n",
      "Total params: 1,755,480\n",
      "Trainable params: 1,755,480\n",
      "Non-trainable params: 0\n",
      "_________________________________________________________________\n",
      "None\n",
      "\n",
      "Train on 110288 samples, validate on 27573 samples\n",
      "Epoch 1/10\n",
      "110288/110288 [==============================] - 33s 302us/step - loss: 1.8873 - acc: 0.5714 - val_loss: nan - val_acc: 0.6263\n",
      "Epoch 2/10\n",
      "110288/110288 [==============================] - 32s 294us/step - loss: 1.2549 - acc: 0.6432 - val_loss: nan - val_acc: 0.6566\n",
      "Epoch 3/10\n",
      "110288/110288 [==============================] - 32s 294us/step - loss: 1.1132 - acc: 0.6715 - val_loss: nan - val_acc: 0.6769\n",
      "Epoch 4/10\n",
      "110288/110288 [==============================] - 32s 295us/step - loss: 1.0160 - acc: 0.6892 - val_loss: nan - val_acc: 0.6942\n",
      "Epoch 5/10\n",
      "110288/110288 [==============================] - 32s 294us/step - loss: 0.9431 - acc: 0.7017 - val_loss: nan - val_acc: 0.7010\n",
      "Epoch 6/10\n",
      "110288/110288 [==============================] - 32s 294us/step - loss: 0.8908 - acc: 0.7099 - val_loss: nan - val_acc: 0.7038\n",
      "Epoch 7/10\n",
      "110288/110288 [==============================] - 32s 294us/step - loss: 0.8477 - acc: 0.7182 - val_loss: nan - val_acc: 0.7223\n",
      "Epoch 8/10\n",
      "110288/110288 [==============================] - 32s 294us/step - loss: 0.8151 - acc: 0.7240 - val_loss: nan - val_acc: 0.7270\n",
      "Epoch 9/10\n",
      "110288/110288 [==============================] - 32s 294us/step - loss: 0.7791 - acc: 0.7333 - val_loss: nan - val_acc: 0.7389\n",
      "Epoch 10/10\n",
      "110288/110288 [==============================] - 32s 294us/step - loss: 0.7419 - acc: 0.7428 - val_loss: nan - val_acc: 0.7502\n",
      "new jersey est parfois calme au mois de mai et il est en en <PAD> <PAD> <PAD> <PAD> <PAD> <PAD> <PAD>\n"
     ]
    }
   ],
   "source": [
    "def bd_sum_model(input_shape, output_sequence_length, english_vocab_size, french_vocab_size):\n",
    "    \"\"\"\n",
    "    Build and train a bidirectional RNN model on x and y\n",
    "    :param input_shape: Tuple of input shape\n",
    "    :param output_sequence_length: Length of output sequence\n",
    "    :param english_vocab_size: Number of unique English words in the dataset\n",
    "    :param french_vocab_size: Number of unique French words in the dataset\n",
    "    :return: Keras model built, but not trained\n",
    "    \"\"\"\n",
    "    learning_rate = 1e-3\n",
    "    \n",
    "    X = Input(shape=input_shape[1:], name=\"Inputs\")\n",
    "    Bi_RNN = Bidirectional(GRU(512, return_sequences=True, name=\"RNN\"), merge_mode=\"sum\", name=\"Bi-Dir_Sum\")(X)\n",
    "    y = TimeDistributed(Dense(french_vocab_size), name=\"TimeDistributed_Outputs\")(Bi_RNN)\n",
    "    \n",
    "    model = Model(X, Activation(\"softmax\", name=\"Activation\")(y))\n",
    "    \n",
    "    model.compile(loss=sparse_categorical_crossentropy,\n",
    "                  optimizer=Adam(learning_rate),\n",
    "                  metrics=['accuracy'])\n",
    "\n",
    "    return model\n",
    "\n",
    "tests.test_bd_model(bd_sum_model)\n",
    "\n",
    "# Reshaping the input to work with a basic RNN\n",
    "tmp_x = pad(preproc_english_sentences, max_french_sequence_length)\n",
    "tmp_x = tmp_x.reshape((-1, preproc_french_sentences.shape[-2], 1))\n",
    "\n",
    "# Train the neural network\n",
    "bd_sum_rnn_model = bd_sum_model(\n",
    "    tmp_x.shape,\n",
    "    max_french_sequence_length,\n",
    "    english_vocab_size,\n",
    "    french_vocab_size)\n",
    "\n",
    "print(bd_sum_rnn_model.summary())\n",
    "print()\n",
    "\n",
    "hist3 = bd_sum_rnn_model.fit(tmp_x, preproc_french_sentences, batch_size=1024, epochs=10, validation_split=0.2)\n",
    "\n",
    "# Print prediction(s)\n",
    "print(logits_to_text(bd_sum_rnn_model.predict(tmp_x[:1])[0], french_tokenizer))"
   ]
  },
  {
   "cell_type": "code",
   "execution_count": 21,
   "metadata": {},
   "outputs": [],
   "source": [
    "results[\"bd_sum\"] = hist3.history['loss']"
   ]
  },
  {
   "cell_type": "markdown",
   "metadata": {},
   "source": [
    "#### Bidirectional RNN using \"Concatenation\" Merge mode"
   ]
  },
  {
   "cell_type": "code",
   "execution_count": 22,
   "metadata": {},
   "outputs": [
    {
     "name": "stdout",
     "output_type": "stream",
     "text": [
      "_________________________________________________________________\n",
      "Layer (type)                 Output Shape              Param #   \n",
      "=================================================================\n",
      "Inputs (InputLayer)          (None, 21, 1)             0         \n",
      "_________________________________________________________________\n",
      "Bi-Dir_Concat (Bidirectional (None, 21, 1024)          1579008   \n",
      "_________________________________________________________________\n",
      "TimeDistributed_Outputs (Tim (None, 21, 344)           352600    \n",
      "_________________________________________________________________\n",
      "Activation (Activation)      (None, 21, 344)           0         \n",
      "=================================================================\n",
      "Total params: 1,931,608\n",
      "Trainable params: 1,931,608\n",
      "Non-trainable params: 0\n",
      "_________________________________________________________________\n",
      "None\n",
      "\n",
      "Train on 110288 samples, validate on 27573 samples\n",
      "Epoch 1/10\n",
      "110288/110288 [==============================] - 35s 316us/step - loss: 1.8661 - acc: 0.5713 - val_loss: nan - val_acc: 0.6277\n",
      "Epoch 2/10\n",
      "110288/110288 [==============================] - 34s 308us/step - loss: 1.2394 - acc: 0.6447 - val_loss: nan - val_acc: 0.6613\n",
      "Epoch 3/10\n",
      "110288/110288 [==============================] - 34s 308us/step - loss: 1.1002 - acc: 0.6717 - val_loss: nan - val_acc: 0.6851\n",
      "Epoch 4/10\n",
      "110288/110288 [==============================] - 34s 308us/step - loss: 1.0024 - acc: 0.6898 - val_loss: nan - val_acc: 0.6952\n",
      "Epoch 5/10\n",
      "110288/110288 [==============================] - 34s 308us/step - loss: 0.9343 - acc: 0.7016 - val_loss: nan - val_acc: 0.7116\n",
      "Epoch 6/10\n",
      "110288/110288 [==============================] - 34s 308us/step - loss: 0.8787 - acc: 0.7133 - val_loss: nan - val_acc: 0.7212\n",
      "Epoch 7/10\n",
      "110288/110288 [==============================] - 34s 308us/step - loss: 0.8299 - acc: 0.7231 - val_loss: nan - val_acc: 0.7315\n",
      "Epoch 8/10\n",
      "110288/110288 [==============================] - 34s 308us/step - loss: 0.7852 - acc: 0.7358 - val_loss: nan - val_acc: 0.7435\n",
      "Epoch 9/10\n",
      "110288/110288 [==============================] - 34s 308us/step - loss: 0.7369 - acc: 0.7529 - val_loss: nan - val_acc: 0.7526\n",
      "Epoch 10/10\n",
      "110288/110288 [==============================] - 34s 308us/step - loss: 0.6916 - acc: 0.7707 - val_loss: nan - val_acc: 0.7739\n",
      "new jersey est parfois calme au mois de il et il en en <PAD> <PAD> <PAD> <PAD> <PAD> <PAD> <PAD> <PAD>\n"
     ]
    }
   ],
   "source": [
    "def bd_concat_model(input_shape, output_sequence_length, english_vocab_size, french_vocab_size):\n",
    "    \"\"\"\n",
    "    Build and train a bidirectional RNN model on x and y\n",
    "    :param input_shape: Tuple of input shape\n",
    "    :param output_sequence_length: Length of output sequence\n",
    "    :param english_vocab_size: Number of unique English words in the dataset\n",
    "    :param french_vocab_size: Number of unique French words in the dataset\n",
    "    :return: Keras model built, but not trained\n",
    "    \"\"\"\n",
    "    learning_rate = 1e-3\n",
    "    \n",
    "    X = Input(shape=input_shape[1:], name=\"Inputs\")\n",
    "    Bi_RNN = Bidirectional(GRU(512, return_sequences=True), merge_mode=\"concat\", name=\"Bi-Dir_Concat\")(X)\n",
    "    y = TimeDistributed(Dense(french_vocab_size), name=\"TimeDistributed_Outputs\")(Bi_RNN)\n",
    "    \n",
    "    model = Model(X, Activation(\"softmax\", name=\"Activation\")(y))\n",
    "    \n",
    "    model.compile(loss=sparse_categorical_crossentropy,\n",
    "                  optimizer=Adam(learning_rate),\n",
    "                  metrics=['accuracy'])\n",
    "\n",
    "    return model\n",
    "\n",
    "tests.test_bd_model(bd_concat_model)\n",
    "\n",
    "# Reshaping the input to work with a basic RNN\n",
    "tmp_x = pad(preproc_english_sentences, max_french_sequence_length)\n",
    "tmp_x = tmp_x.reshape((-1, preproc_french_sentences.shape[-2], 1))\n",
    "\n",
    "# Train the neural network\n",
    "bd_concat_rnn_model = bd_concat_model(\n",
    "    tmp_x.shape,\n",
    "    max_french_sequence_length,\n",
    "    english_vocab_size,\n",
    "    french_vocab_size)\n",
    "\n",
    "print(bd_concat_rnn_model.summary())\n",
    "print()\n",
    "\n",
    "hist4 = bd_concat_rnn_model.fit(tmp_x, preproc_french_sentences, batch_size=1024, epochs=10, validation_split=0.2)\n",
    "\n",
    "# Print prediction(s)\n",
    "print(logits_to_text(bd_concat_rnn_model.predict(tmp_x[:1])[0], french_tokenizer))"
   ]
  },
  {
   "cell_type": "code",
   "execution_count": 23,
   "metadata": {},
   "outputs": [],
   "source": [
    "results[\"bd_concat\"] = hist4.history['loss']"
   ]
  },
  {
   "cell_type": "markdown",
   "metadata": {},
   "source": [
    "### Model 4: Encoder-Decoder (OPTIONAL)\n",
    "Time to look at encoder-decoder models.  This model is made up of an encoder and decoder. The encoder creates a matrix representation of the sentence.  The decoder takes this matrix as input and predicts the translation as output.\n",
    "\n",
    "Create an encoder-decoder model in the cell below."
   ]
  },
  {
   "cell_type": "code",
   "execution_count": 24,
   "metadata": {
    "scrolled": false
   },
   "outputs": [
    {
     "name": "stdout",
     "output_type": "stream",
     "text": [
      "__________________________________________________________________________________________________\n",
      "Layer (type)                    Output Shape         Param #     Connected to                     \n",
      "==================================================================================================\n",
      "Inputs (InputLayer)             (None, 15)           0                                            \n",
      "__________________________________________________________________________________________________\n",
      "Source_Embedding (Embedding)    (None, 15, 256)      50944       Inputs[0][0]                     \n",
      "__________________________________________________________________________________________________\n",
      "Encoder (LSTM)                  [(None, 512), (None, 1574912     Source_Embedding[0][0]           \n",
      "__________________________________________________________________________________________________\n",
      "Decoder_Inputs (RepeatVector)   (None, 21, 512)      0           Encoder[0][0]                    \n",
      "__________________________________________________________________________________________________\n",
      "Decoder (LSTM)                  [(None, 21, 512), (N 2099200     Decoder_Inputs[0][0]             \n",
      "                                                                 Encoder[0][1]                    \n",
      "                                                                 Encoder[0][2]                    \n",
      "__________________________________________________________________________________________________\n",
      "Outputs (TimeDistributed)       (None, 21, 344)      176472      Decoder[0][0]                    \n",
      "__________________________________________________________________________________________________\n",
      "Activation (Activation)         (None, 21, 344)      0           Outputs[0][0]                    \n",
      "==================================================================================================\n",
      "Total params: 3,901,528\n",
      "Trainable params: 3,901,528\n",
      "Non-trainable params: 0\n",
      "__________________________________________________________________________________________________\n",
      "None\n",
      "\n",
      "Train on 110288 samples, validate on 27573 samples\n",
      "Epoch 1/10\n",
      "110288/110288 [==============================] - 51s 460us/step - loss: 2.7021 - acc: 0.4674 - val_loss: nan - val_acc: 0.5313\n",
      "Epoch 2/10\n",
      "110288/110288 [==============================] - 50s 451us/step - loss: 1.5696 - acc: 0.5909 - val_loss: nan - val_acc: 0.6304\n",
      "Epoch 3/10\n",
      "110288/110288 [==============================] - 50s 451us/step - loss: 1.2494 - acc: 0.6519 - val_loss: nan - val_acc: 0.6761\n",
      "Epoch 4/10\n",
      "110288/110288 [==============================] - 50s 451us/step - loss: 1.0808 - acc: 0.6893 - val_loss: nan - val_acc: 0.7075\n",
      "Epoch 5/10\n",
      "110288/110288 [==============================] - 50s 451us/step - loss: 0.9509 - acc: 0.7227 - val_loss: nan - val_acc: 0.7410\n",
      "Epoch 6/10\n",
      "110288/110288 [==============================] - 50s 451us/step - loss: 0.8423 - acc: 0.7502 - val_loss: nan - val_acc: 0.7657\n",
      "Epoch 7/10\n",
      "110288/110288 [==============================] - 50s 451us/step - loss: 0.7373 - acc: 0.7777 - val_loss: nan - val_acc: 0.7895\n",
      "Epoch 8/10\n",
      "110288/110288 [==============================] - 50s 451us/step - loss: 0.6383 - acc: 0.8060 - val_loss: nan - val_acc: 0.8180\n",
      "Epoch 9/10\n",
      "110288/110288 [==============================] - 50s 451us/step - loss: 0.5935 - acc: 0.8171 - val_loss: nan - val_acc: 0.8387\n",
      "Epoch 10/10\n",
      "110288/110288 [==============================] - 50s 451us/step - loss: 0.4571 - acc: 0.8592 - val_loss: nan - val_acc: 0.8718\n",
      "new jersey est parfois chaud au cours et l' automne et en est <PAD> <PAD> <PAD> <PAD> <PAD> <PAD> <PAD> <PAD>\n"
     ]
    }
   ],
   "source": [
    "def encdec_model(input_shape, output_sequence_length, english_vocab_size, french_vocab_size):\n",
    "    \"\"\"\n",
    "    Build and train an encoder-decoder model on x and y\n",
    "    :param input_shape: Tuple of input shape\n",
    "    :param output_sequence_length: Length of output sequence\n",
    "    :param english_vocab_size: Number of unique English words in the dataset\n",
    "    :param french_vocab_size: Number of unique French words in the dataset\n",
    "    :return: Keras model built, but not trained\n",
    "    \"\"\"\n",
    "    learning_rate=1e-3\n",
    "    \n",
    "    # Encoder\n",
    "    X = Input(shape=input_shape[1:], name=\"Inputs\")\n",
    "    embedding = Embedding(english_vocab_size, 256, name=\"Source_Embedding\")(X)\n",
    "    encoder, state_h, state_c = LSTM(512, return_state=True, name=\"Encoder\")(embedding)\n",
    "    \n",
    "    # Decoder\n",
    "    decoder_inputs = RepeatVector(output_sequence_length, name=\"Decoder_Inputs\")(encoder)    \n",
    "    decoder, _, _ = LSTM(512, return_sequences=True, return_state=True, name=\"Decoder\")(decoder_inputs, initial_state=[state_h, state_c])\n",
    "    decoder_y = TimeDistributed(Dense(french_vocab_size), name=\"Outputs\")(decoder)\n",
    "    \n",
    "    model = Model(X, Activation(\"softmax\", name=\"Activation\")(decoder_y))\n",
    "    \n",
    "    model.compile(loss=sparse_categorical_crossentropy,\n",
    "                  optimizer=Adam(learning_rate),\n",
    "                  metrics=['accuracy'])\n",
    "    \n",
    "    return model\n",
    "\n",
    "# tests.test_encdec_model(encdec_model)\n",
    "\n",
    "# Reshaping the input to work with a basic RNN\n",
    "tmp_x = pad(preproc_english_sentences, max_english_sequence_length)\n",
    "\n",
    "# Train the neural network\n",
    "encdec_rnn_model = encdec_model(\n",
    "    tmp_x.shape,\n",
    "    max_french_sequence_length,\n",
    "    english_vocab_size,\n",
    "    french_vocab_size)\n",
    "\n",
    "print(encdec_rnn_model.summary())\n",
    "print()\n",
    "\n",
    "hist5 = encdec_rnn_model.fit(tmp_x, preproc_french_sentences, batch_size=1024, epochs=10, validation_split=0.2)\n",
    "\n",
    "# Print prediction(s)\n",
    "print(logits_to_text(encdec_rnn_model.predict(tmp_x[:1])[0], french_tokenizer))"
   ]
  },
  {
   "cell_type": "code",
   "execution_count": 25,
   "metadata": {},
   "outputs": [],
   "source": [
    "results[\"encdec\"] = hist5.history['loss']"
   ]
  },
  {
   "cell_type": "code",
   "execution_count": 26,
   "metadata": {},
   "outputs": [
    {
     "name": "stdout",
     "output_type": "stream",
     "text": [
      "new jersey is sometimes quiet during autumn and it is snowy in april <PAD> <PAD>\n"
     ]
    }
   ],
   "source": [
    "print(source_to_text(preproc_english_sentences[0], english_tokenizer))"
   ]
  },
  {
   "cell_type": "markdown",
   "metadata": {},
   "source": [
    "### Model 5: Custom (IMPLEMENTATION)\n",
    "Use everything you learned from the previous models to create a model that incorporates embedding and a bidirectional rnn into one model."
   ]
  },
  {
   "cell_type": "markdown",
   "metadata": {},
   "source": [
    "### Bidirectional and embedding RNN"
   ]
  },
  {
   "cell_type": "code",
   "execution_count": 27,
   "metadata": {
    "scrolled": false
   },
   "outputs": [
    {
     "name": "stdout",
     "output_type": "stream",
     "text": [
      "Final Model Loaded\n",
      "_________________________________________________________________\n",
      "Layer (type)                 Output Shape              Param #   \n",
      "=================================================================\n",
      "Inputs (InputLayer)          (None, 21)                0         \n",
      "_________________________________________________________________\n",
      "Embeddings (Embedding)       (None, 21, 256)           50944     \n",
      "_________________________________________________________________\n",
      "BD_RNN (Bidirectional)       (None, 21, 1024)          2362368   \n",
      "_________________________________________________________________\n",
      "Outputs (TimeDistributed)    (None, 21, 344)           352600    \n",
      "_________________________________________________________________\n",
      "Activation (Activation)      (None, 21, 344)           0         \n",
      "=================================================================\n",
      "Total params: 2,765,912\n",
      "Trainable params: 2,765,912\n",
      "Non-trainable params: 0\n",
      "_________________________________________________________________\n",
      "None\n",
      "\n",
      "Train on 110288 samples, validate on 27573 samples\n",
      "Epoch 1/10\n",
      "110288/110288 [==============================] - 44s 400us/step - loss: 2.5675 - acc: 0.5000 - val_loss: nan - val_acc: 0.6405\n",
      "Epoch 2/10\n",
      "110288/110288 [==============================] - 43s 390us/step - loss: 1.0877 - acc: 0.7338 - val_loss: nan - val_acc: 0.7958\n",
      "Epoch 3/10\n",
      "110288/110288 [==============================] - 43s 390us/step - loss: 0.6145 - acc: 0.8290 - val_loss: nan - val_acc: 0.8621\n",
      "Epoch 4/10\n",
      "110288/110288 [==============================] - 43s 390us/step - loss: 0.3989 - acc: 0.8841 - val_loss: nan - val_acc: 0.9035\n",
      "Epoch 5/10\n",
      "110288/110288 [==============================] - 43s 390us/step - loss: 0.2888 - acc: 0.9141 - val_loss: nan - val_acc: 0.9225\n",
      "Epoch 6/10\n",
      "110288/110288 [==============================] - 43s 390us/step - loss: 0.2209 - acc: 0.9334 - val_loss: nan - val_acc: 0.9377\n",
      "Epoch 7/10\n",
      "110288/110288 [==============================] - 43s 390us/step - loss: 0.1825 - acc: 0.9447 - val_loss: nan - val_acc: 0.9483\n",
      "Epoch 8/10\n",
      "110288/110288 [==============================] - 43s 390us/step - loss: 0.1512 - acc: 0.9542 - val_loss: nan - val_acc: 0.9577\n",
      "Epoch 9/10\n",
      "110288/110288 [==============================] - 43s 390us/step - loss: 0.1292 - acc: 0.9611 - val_loss: nan - val_acc: 0.9619\n",
      "Epoch 10/10\n",
      "110288/110288 [==============================] - 43s 390us/step - loss: 0.1140 - acc: 0.9656 - val_loss: nan - val_acc: 0.9654\n",
      "new jersey est parfois calme pendant cours automne et il est neigeux en avril <PAD> <PAD> <PAD> <PAD> <PAD> <PAD> <PAD>\n"
     ]
    }
   ],
   "source": [
    "def model_final(input_shape, output_sequence_length, english_vocab_size, french_vocab_size):\n",
    "    \"\"\"\n",
    "    Build and train a model that incorporates embedding, encoder-decoder, and bidirectional RNN on x and y\n",
    "    :param input_shape: Tuple of input shape\n",
    "    :param output_sequence_length: Length of output sequence\n",
    "    :param english_vocab_size: Number of unique English words in the dataset\n",
    "    :param french_vocab_size: Number of unique French words in the dataset\n",
    "    :return: Keras model built, but not trained\n",
    "    \"\"\"\n",
    "    learning_rate = 1e-3\n",
    "    \n",
    "    # Building Bidrectional RNN with Embedding Model\n",
    "    X = Input(shape=input_shape[1:], name=\"Inputs\")\n",
    "    embedding = Embedding(english_vocab_size, 256, input_length=input_shape[1], name=\"Embeddings\")(X)\n",
    "    BiDirect_RNN = Bidirectional(GRU(512, return_sequences=True), name=\"BD_RNN\")(embedding)\n",
    "    y = TimeDistributed(Dense(french_vocab_size), name=\"Outputs\")(BiDirect_RNN)\n",
    "    \n",
    "    model = Model(X, Activation(\"softmax\", name=\"Activation\")(y))\n",
    "    \n",
    "    model.compile(loss=sparse_categorical_crossentropy,\n",
    "                  optimizer=Adam(learning_rate),\n",
    "                  metrics=['accuracy'])  \n",
    "    \n",
    "    return model\n",
    "\n",
    "tests.test_model_final(model_final)\n",
    "\n",
    "print('Final Model Loaded')\n",
    "\n",
    "# Reshaping the input to work with a basic RNN\n",
    "tmp_x = pad(preproc_english_sentences, max_french_sequence_length)\n",
    "\n",
    "# Train the neural network\n",
    "final_rnn_model = model_final(\n",
    "    tmp_x.shape,\n",
    "    max_french_sequence_length,\n",
    "    english_vocab_size,\n",
    "    french_vocab_size)\n",
    "\n",
    "print(final_rnn_model.summary())\n",
    "print()\n",
    "\n",
    "hist6 = final_rnn_model.fit(tmp_x, preproc_french_sentences, batch_size=1024, epochs=10, validation_split=0.2)\n",
    "\n",
    "# Print prediction(s)\n",
    "print(logits_to_text(final_rnn_model.predict(tmp_x[:1])[0], french_tokenizer))\n"
   ]
  },
  {
   "cell_type": "code",
   "execution_count": 28,
   "metadata": {},
   "outputs": [],
   "source": [
    "results[\"final_model\"] = hist6.history['loss']"
   ]
  },
  {
   "cell_type": "code",
   "execution_count": 29,
   "metadata": {},
   "outputs": [
    {
     "data": {
      "text/plain": [
       "<matplotlib.axes._subplots.AxesSubplot at 0x7f9e80101550>"
      ]
     },
     "execution_count": 29,
     "metadata": {},
     "output_type": "execute_result"
    },
    {
     "data": {
      "image/png": "[encoded data removed]",
      "text/plain": [
       "<matplotlib.figure.Figure at 0x7f9e81a06ef0>"
      ]
     },
     "metadata": {
      "needs_background": "light"
     },
     "output_type": "display_data"
    }
   ],
   "source": [
    "results.plot()"
   ]
  },
  {
   "cell_type": "markdown",
   "metadata": {},
   "source": [
    "### Bidirectional Encoder-Decoder RNN using \"Sum\" Merge mode"
   ]
  },
  {
   "cell_type": "code",
   "execution_count": 10,
   "metadata": {
    "scrolled": false
   },
   "outputs": [
    {
     "name": "stdout",
     "output_type": "stream",
     "text": [
      "Final Model Loaded\n",
      "_________________________________________________________________\n",
      "Layer (type)                 Output Shape              Param #   \n",
      "=================================================================\n",
      "Inputs (InputLayer)          (None, 15)                0         \n",
      "_________________________________________________________________\n",
      "Embeddings (Embedding)       (None, 15, 344)           68456     \n",
      "_________________________________________________________________\n",
      "BD_RNN (Bidirectional)       (None, 512)               923136    \n",
      "_________________________________________________________________\n",
      "repeat_vector_1 (RepeatVecto (None, 21, 512)           0         \n",
      "_________________________________________________________________\n",
      "bidirectional_1 (Bidirection (None, 21, 512)           1181184   \n",
      "_________________________________________________________________\n",
      "Outputs (TimeDistributed)    (None, 21, 344)           176472    \n",
      "_________________________________________________________________\n",
      "Activation (Activation)      (None, 21, 344)           0         \n",
      "=================================================================\n",
      "Total params: 2,349,248\n",
      "Trainable params: 2,349,248\n",
      "Non-trainable params: 0\n",
      "_________________________________________________________________\n",
      "None\n",
      "\n",
      "Train on 110288 samples, validate on 27573 samples\n",
      "Epoch 1/20\n",
      "110288/110288 [==============================] - 48s 435us/step - loss: 2.5659 - acc: 0.4700 - val_loss: nan - val_acc: 0.5444\n",
      "Epoch 2/20\n",
      "110288/110288 [==============================] - 45s 411us/step - loss: 1.5785 - acc: 0.5963 - val_loss: nan - val_acc: 0.6512\n",
      "Epoch 3/20\n",
      "110288/110288 [==============================] - 45s 412us/step - loss: 1.2168 - acc: 0.6697 - val_loss: nan - val_acc: 0.7090\n",
      "Epoch 4/20\n",
      "110288/110288 [==============================] - 45s 412us/step - loss: 0.9961 - acc: 0.7184 - val_loss: nan - val_acc: 0.7501\n",
      "Epoch 5/20\n",
      "110288/110288 [==============================] - 46s 413us/step - loss: 0.8484 - acc: 0.7524 - val_loss: nan - val_acc: 0.7842\n",
      "Epoch 6/20\n",
      "110288/110288 [==============================] - 45s 409us/step - loss: 0.7225 - acc: 0.7862 - val_loss: nan - val_acc: 0.8223\n",
      "Epoch 7/20\n",
      "110288/110288 [==============================] - 45s 410us/step - loss: 0.6107 - acc: 0.8197 - val_loss: nan - val_acc: 0.8546\n",
      "Epoch 8/20\n",
      "110288/110288 [==============================] - 45s 409us/step - loss: 0.5179 - acc: 0.8481 - val_loss: nan - val_acc: 0.8820\n",
      "Epoch 9/20\n",
      "110288/110288 [==============================] - 45s 409us/step - loss: 0.4370 - acc: 0.8727 - val_loss: nan - val_acc: 0.9054\n",
      "Epoch 10/20\n",
      "110288/110288 [==============================] - 45s 411us/step - loss: 0.3635 - acc: 0.8942 - val_loss: nan - val_acc: 0.9249\n",
      "Epoch 11/20\n",
      "110288/110288 [==============================] - 45s 411us/step - loss: 0.3048 - acc: 0.9124 - val_loss: nan - val_acc: 0.9404\n",
      "Epoch 12/20\n",
      "110288/110288 [==============================] - 45s 411us/step - loss: 0.2596 - acc: 0.9259 - val_loss: nan - val_acc: 0.9488\n",
      "Epoch 13/20\n",
      "110288/110288 [==============================] - 45s 411us/step - loss: 0.2255 - acc: 0.9356 - val_loss: nan - val_acc: 0.9550\n",
      "Epoch 14/20\n",
      "110288/110288 [==============================] - 45s 411us/step - loss: 0.1975 - acc: 0.9435 - val_loss: nan - val_acc: 0.9607\n",
      "Epoch 15/20\n",
      "110288/110288 [==============================] - 46s 414us/step - loss: 0.1807 - acc: 0.9483 - val_loss: nan - val_acc: 0.9587\n",
      "Epoch 16/20\n",
      "110288/110288 [==============================] - 46s 413us/step - loss: 0.1678 - acc: 0.9516 - val_loss: nan - val_acc: 0.9659\n",
      "Epoch 17/20\n",
      "110288/110288 [==============================] - 46s 413us/step - loss: 0.1515 - acc: 0.9561 - val_loss: nan - val_acc: 0.9663\n",
      "Epoch 18/20\n",
      "110288/110288 [==============================] - 46s 413us/step - loss: 0.1402 - acc: 0.9590 - val_loss: nan - val_acc: 0.9689\n",
      "Epoch 19/20\n",
      "110288/110288 [==============================] - 46s 413us/step - loss: 0.1307 - acc: 0.9615 - val_loss: nan - val_acc: 0.9711\n",
      "Epoch 20/20\n",
      "110288/110288 [==============================] - 46s 413us/step - loss: 0.1221 - acc: 0.9641 - val_loss: nan - val_acc: 0.9720\n",
      "new jersey est parfois calme pendant l' automne et il et il en avril <PAD> avril <PAD> <PAD> <PAD> <PAD> <PAD>\n"
     ]
    }
   ],
   "source": [
    "def bd_encdec_model_final(input_shape, output_sequence_length, english_vocab_size, french_vocab_size):\n",
    "    \"\"\"\n",
    "    Build and train a model that incorporates embedding, encoder-decoder, and bidirectional RNN on x and y\n",
    "    :param input_shape: Tuple of input shape\n",
    "    :param output_sequence_length: Length of output sequence\n",
    "    :param english_vocab_size: Number of unique English words in the dataset\n",
    "    :param french_vocab_size: Number of unique French words in the dataset\n",
    "    :return: Keras model built, but not trained\n",
    "    \"\"\"\n",
    "    learning_rate = 1e-3\n",
    "    \n",
    "    # Model\n",
    "    X = Input(shape=input_shape[1:], name=\"Inputs\")\n",
    "    embedding = Embedding(english_vocab_size, french_vocab_size, input_length=input_shape[1], name=\"Embeddings\")(X)\n",
    "    BiDirect_RNN = Bidirectional(GRU(256, dropout=0.2, recurrent_dropout=0.4), name=\"BD_RNN\")(embedding)\n",
    "    decoder_input = RepeatVector(output_sequence_length)(BiDirect_RNN)\n",
    "    BiDirect_Decode_RNN = Bidirectional(GRU(256, return_sequences=True, dropout=0.2, recurrent_dropout=0.4), merge_mode=\"concat\")(decoder_input)\n",
    "    y = TimeDistributed(Dense(french_vocab_size), name=\"Outputs\")(BiDirect_Decode_RNN)\n",
    "    \n",
    "    model = Model(X, Activation(\"softmax\", name=\"Activation\")(y))\n",
    "    \n",
    "    model.compile(loss=sparse_categorical_crossentropy,\n",
    "                  optimizer=Adam(learning_rate),\n",
    "                  metrics=['accuracy'])  \n",
    "    \n",
    "    return model\n",
    "\n",
    "# tests.test_model_final(bd_encdec_model_final)\n",
    "\n",
    "print('Final Model Loaded')\n",
    "# TODO: Train the final model\n",
    "\n",
    "# Reshaping the input to work with a basic RNN\n",
    "tmp_x = pad(preproc_english_sentences, max_english_sequence_length)\n",
    "# tmp_x = tmp_x.reshape((-1, preproc_french_sentences.shape[-2], 1))\n",
    "\n",
    "# Train the neural network\n",
    "final_bd_encdec_model = bd_encdec_model_final(\n",
    "    tmp_x.shape,\n",
    "    max_french_sequence_length,\n",
    "    english_vocab_size,\n",
    "    french_vocab_size)\n",
    "\n",
    "print(final_bd_encdec_model.summary())\n",
    "print()\n",
    "\n",
    "hist7 = final_bd_encdec_model.fit(tmp_x, preproc_french_sentences, batch_size=1024, epochs=20, validation_split=0.2)\n",
    "\n",
    "# Print prediction(s)\n",
    "print(logits_to_text(final_bd_encdec_model.predict(tmp_x[:1])[0], french_tokenizer))\n"
   ]
  },
  {
   "cell_type": "markdown",
   "metadata": {},
   "source": [
    "## Prediction (IMPLEMENTATION)"
   ]
  },
  {
   "cell_type": "code",
   "execution_count": 32,
   "metadata": {},
   "outputs": [
    {
     "name": "stdout",
     "output_type": "stream",
     "text": [
      "_________________________________________________________________\n",
      "Layer (type)                 Output Shape              Param #   \n",
      "=================================================================\n",
      "Inputs (InputLayer)          (None, 15)                0         \n",
      "_________________________________________________________________\n",
      "Embeddings (Embedding)       (None, 15, 344)           68456     \n",
      "_________________________________________________________________\n",
      "BD_RNN (Bidirectional)       (None, 512)               923136    \n",
      "_________________________________________________________________\n",
      "repeat_vector_2 (RepeatVecto (None, 21, 512)           0         \n",
      "_________________________________________________________________\n",
      "bidirectional_2 (Bidirection (None, 21, 512)           3148800   \n",
      "_________________________________________________________________\n",
      "Outputs (TimeDistributed)    (None, 21, 344)           176472    \n",
      "_________________________________________________________________\n",
      "Activation (Activation)      (None, 21, 344)           0         \n",
      "=================================================================\n",
      "Total params: 4,316,864\n",
      "Trainable params: 4,316,864\n",
      "Non-trainable params: 0\n",
      "_________________________________________________________________\n",
      "None\n",
      "Train on 110288 samples, validate on 27573 samples\n",
      "Epoch 1/20\n",
      "110288/110288 [==============================] - 69s 628us/step - loss: 2.4463 - acc: 0.4827 - val_loss: nan - val_acc: 0.5813\n",
      "Epoch 2/20\n",
      "110288/110288 [==============================] - 67s 605us/step - loss: 1.4346 - acc: 0.6256 - val_loss: nan - val_acc: 0.6745\n",
      "Epoch 3/20\n",
      "110288/110288 [==============================] - 67s 605us/step - loss: 1.0861 - acc: 0.6978 - val_loss: nan - val_acc: 0.7436\n",
      "Epoch 4/20\n",
      "110288/110288 [==============================] - 67s 604us/step - loss: 0.8518 - acc: 0.7502 - val_loss: nan - val_acc: 0.7851\n",
      "Epoch 5/20\n",
      "110288/110288 [==============================] - 67s 604us/step - loss: 0.6891 - acc: 0.7919 - val_loss: nan - val_acc: 0.8326\n",
      "Epoch 6/20\n",
      "110288/110288 [==============================] - 67s 604us/step - loss: 0.5509 - acc: 0.8330 - val_loss: nan - val_acc: 0.8749\n",
      "Epoch 7/20\n",
      "110288/110288 [==============================] - 67s 604us/step - loss: 0.4321 - acc: 0.8693 - val_loss: nan - val_acc: 0.9081\n",
      "Epoch 8/20\n",
      "110288/110288 [==============================] - 67s 604us/step - loss: 0.3358 - acc: 0.8987 - val_loss: nan - val_acc: 0.9300\n",
      "Epoch 9/20\n",
      "110288/110288 [==============================] - 67s 604us/step - loss: 0.2656 - acc: 0.9204 - val_loss: nan - val_acc: 0.9439\n",
      "Epoch 10/20\n",
      "110288/110288 [==============================] - 67s 604us/step - loss: 0.2181 - acc: 0.9344 - val_loss: nan - val_acc: 0.9525\n",
      "Epoch 11/20\n",
      "110288/110288 [==============================] - 67s 605us/step - loss: 0.1857 - acc: 0.9439 - val_loss: nan - val_acc: 0.9584\n",
      "Epoch 12/20\n",
      "110288/110288 [==============================] - 67s 604us/step - loss: 0.1639 - acc: 0.9501 - val_loss: nan - val_acc: 0.9638\n",
      "Epoch 13/20\n",
      "110288/110288 [==============================] - 67s 604us/step - loss: 0.1470 - acc: 0.9549 - val_loss: nan - val_acc: 0.9667\n",
      "Epoch 14/20\n",
      "110288/110288 [==============================] - 67s 604us/step - loss: 0.1323 - acc: 0.9595 - val_loss: nan - val_acc: 0.9692\n",
      "Epoch 15/20\n",
      "110288/110288 [==============================] - 67s 604us/step - loss: 0.1216 - acc: 0.9626 - val_loss: nan - val_acc: 0.9708\n",
      "Epoch 16/20\n",
      "110288/110288 [==============================] - 67s 604us/step - loss: 0.1129 - acc: 0.9650 - val_loss: nan - val_acc: 0.9724\n",
      "Epoch 17/20\n",
      "110288/110288 [==============================] - 67s 604us/step - loss: 0.1039 - acc: 0.9676 - val_loss: nan - val_acc: 0.9740\n",
      "Epoch 18/20\n",
      "110288/110288 [==============================] - 67s 604us/step - loss: 0.0968 - acc: 0.9699 - val_loss: nan - val_acc: 0.9755\n",
      "Epoch 19/20\n",
      "110288/110288 [==============================] - 67s 605us/step - loss: 0.0902 - acc: 0.9719 - val_loss: nan - val_acc: 0.9770\n",
      "Epoch 20/20\n",
      "110288/110288 [==============================] - 67s 604us/step - loss: 0.0859 - acc: 0.9732 - val_loss: nan - val_acc: 0.9779\n",
      "Test score: nan\n",
      "Test accuracy: 0.98302327353\n",
      "Sample 1:\n",
      "il a vu un vieux camion jaune <PAD> <PAD> <PAD> <PAD> <PAD> <PAD> <PAD> <PAD> <PAD> <PAD> <PAD> <PAD> <PAD> <PAD>\n",
      "Il a vu un vieux camion jaune\n",
      "Sample 2:\n",
      "new jersey est parfois calme pendant l' automne et il est neigeux en avril <PAD> <PAD> <PAD> <PAD> <PAD> <PAD> <PAD>\n",
      "new jersey est parfois calme pendant l' automne et il est neigeux en avril <PAD> <PAD> <PAD> <PAD> <PAD> <PAD> <PAD>\n"
     ]
    }
   ],
   "source": [
    "def final_predictions(x, y, x_tk, y_tk):\n",
    "    \"\"\"\n",
    "    Gets predictions using the final model\n",
    "    :param x: Preprocessed English data\n",
    "    :param y: Preprocessed French data\n",
    "    :param x_tk: English tokenizer\n",
    "    :param y_tk: French tokenizer\n",
    "    \"\"\"\n",
    "    x = pad(x, x.shape[1])\n",
    "    \n",
    "    model = bd_encdec_model_final(x.shape, y.shape[1], english_vocab_size, french_vocab_size)\n",
    "    print(model.summary())\n",
    "    model.fit(x, y, batch_size=1024, epochs=20, validation_split=0.2)\n",
    "    \n",
    "    score = model.evaluate(x, y, verbose=0)\n",
    "    print('Test score:', score[0])\n",
    "    print('Test accuracy:', score[1])\n",
    "    \n",
    "    ## DON'T EDIT ANYTHING BELOW THIS LINE\n",
    "    y_id_to_word = {value: key for key, value in y_tk.word_index.items()}\n",
    "    y_id_to_word[0] = '<PAD>'\n",
    "\n",
    "    sentence = 'he saw a old yellow truck'\n",
    "    sentence = [x_tk.word_index[word] for word in sentence.split()]\n",
    "    # Not using encoder-decoder model, so change the max length to longest target output length.\n",
    "    sentence = pad_sequences([sentence], maxlen= x.shape[1], padding='post')\n",
    "    sentences = np.array([sentence[0], x[0]])\n",
    "    predictions = model.predict(sentences,len(sentences))\n",
    "    \n",
    "\n",
    "    print('Sample 1:')\n",
    "    print(' '.join([y_id_to_word[np.argmax(x)] for x in predictions[0]]))\n",
    "    print('Il a vu un vieux camion jaune')\n",
    "    print('Sample 2:')\n",
    "    print(' '.join([y_id_to_word[np.argmax(x)] for x in predictions[1]]))\n",
    "    print(' '.join([y_id_to_word[np.max(x)] for x in y[0]]))\n",
    "\n",
    "\n",
    "final_predictions(preproc_english_sentences, preproc_french_sentences, english_tokenizer, french_tokenizer)"
   ]
  },
  {
   "cell_type": "markdown",
   "metadata": {},
   "source": [
    "## Submission\n",
    "When you're ready to submit, complete the following steps:\n",
    "1. Review the [rubric](https://review.udacity.com/#!/rubrics/1004/view) to ensure your submission meets all requirements to pass\n",
    "2. Generate an HTML version of this notebook\n",
    "\n",
    "  - Run the next cell to attempt automatic generation (this is the recommended method in Workspaces)\n",
    "  - Navigate to **FILE -> Download as -> HTML (.html)**\n",
    "  - Manually generate a copy using `nbconvert` from your shell terminal\n",
    "```\n",
    "$ pip install nbconvert\n",
    "$ python -m nbconvert machine_translation.ipynb\n",
    "```\n",
    "  \n",
    "3. Submit the project\n",
    "\n",
    "  - If you are in a Workspace, simply click the \"Submit Project\" button (bottom towards the right)\n",
    "  \n",
    "  - Otherwise, add the following files into a zip archive and submit them \n",
    "  - `helper.py`\n",
    "  - `machine_translation.ipynb`\n",
    "  - `machine_translation.html`\n",
    "    - You can export the notebook by navigating to **File -> Download as -> HTML (.html)**."
   ]
  },
  {
   "cell_type": "markdown",
   "metadata": {},
   "source": [
    "### Generate the html\n",
    "\n",
    "**Save your notebook before running the next cell to generate the HTML output.** Then submit your project."
   ]
  },
  {
   "cell_type": "code",
   "execution_count": 3,
   "metadata": {},
   "outputs": [
    {
     "data": {
      "text/plain": [
       "['[NbConvertApp] Converting notebook machine_translation.ipynb to html',\n",
       " '[NbConvertApp] Writing 449188 bytes to machine_translation.html']"
      ]
     },
     "execution_count": 3,
     "metadata": {},
     "output_type": "execute_result"
    }
   ],
   "source": [
    "# Save before you run this cell!\n",
    "!!jupyter nbconvert *.ipynb"
   ]
  },
  {
   "cell_type": "markdown",
   "metadata": {},
   "source": [
    "## Optional Enhancements\n",
    "\n",
    "This project focuses on learning various network architectures for machine translation, but we don't evaluate the models according to best practices by splitting the data into separate test & training sets -- so the model accuracy is overstated. Use the [`sklearn.model_selection.train_test_split()`](http://scikit-learn.org/stable/modules/generated/sklearn.model_selection.train_test_split.html) function to create separate training & test datasets, then retrain each of the models using only the training set and evaluate the prediction accuracy using the hold out test set. Does the \"best\" model change?"
   ]
  }
 ],
 "metadata": {
  "kernelspec": {
   "display_name": "Python 3",
   "language": "python",
   "name": "python3"
  },
  "language_info": {
   "codemirror_mode": {
    "name": "ipython",
    "version": 3
   },
   "file_extension": ".py",
   "mimetype": "text/x-python",
   "name": "python",
   "nbconvert_exporter": "python",
   "pygments_lexer": "ipython3",
   "version": "3.7.3"
  }
 },
 "nbformat": 4,
 "nbformat_minor": 2
}
